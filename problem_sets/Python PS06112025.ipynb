{
 "cells": [
  {
   "cell_type": "markdown",
   "id": "b099b7bd",
   "metadata": {},
   "source": [
    "# Python Problem (Level 8): Filter a Dictionary by Value Type\n",
    "\n",
    "## 06/11/2025\n",
    "\n",
    "## Prompt:\n",
    "You’re given a dictionary with mixed value types:"
   ]
  },
  {
   "cell_type": "code",
   "execution_count": null,
   "id": "43142d0a",
   "metadata": {},
   "outputs": [],
   "source": [
    "data = {\n",
    "    \"name\": \"Alice\",\n",
    "    \"age\": 30,\n",
    "    \"height\": 5.6,\n",
    "    \"is_student\": False,\n",
    "    \"city\": \"New York\"\n",
    "}"
   ]
  },
  {
   "cell_type": "markdown",
   "id": "cfbe0599",
   "metadata": {},
   "source": [
    "## Task:\n",
    "Write a function filter_strings(data_dict) that returns a new dictionary containing only the key-value pairs where the value is a string.\n",
    "\n",
    "## Expected Output:"
   ]
  },
  {
   "cell_type": "code",
   "execution_count": null,
   "id": "826f8c8c",
   "metadata": {},
   "outputs": [],
   "source": [
    "{'name': 'Alice', 'city': 'New York'}"
   ]
  },
  {
   "cell_type": "markdown",
   "id": "bc5d689f",
   "metadata": {},
   "source": [
    "## Attempted Solution:"
   ]
  },
  {
   "cell_type": "code",
   "execution_count": null,
   "id": "83f18cab",
   "metadata": {},
   "outputs": [],
   "source": [
    "data = {\n",
    "    \"name\": \"Alice\",\n",
    "    \"age\": 30,\n",
    "    \"height\": 5.6,\n",
    "    \"is_student\": False,\n",
    "    \"city\": \"New York\"\n",
    "}\n",
    "\n",
    "def filter_strings(data_dict):\n",
    "    string_dict = {}\n",
    "\n",
    "    for i, j in data_dict.items():\n",
    "        if type(j) is str:\n",
    "            string_dict[i] = j\n",
    "    return string_dict"
   ]
  },
  {
   "cell_type": "markdown",
   "id": "b55c4604",
   "metadata": {},
   "source": [
    "## ChatGPT Corrections:\n",
    "\n",
    "Correct!"
   ]
  }
 ],
 "metadata": {
  "language_info": {
   "name": "python"
  }
 },
 "nbformat": 4,
 "nbformat_minor": 5
}
