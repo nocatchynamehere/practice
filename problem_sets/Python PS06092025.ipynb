{
 "cells": [
  {
   "cell_type": "markdown",
   "id": "ea3f6470",
   "metadata": {},
   "source": [
    "# Python Problem (Level 8): Frequency Counter\n",
    "\n",
    "## 06/09/2025\n",
    "\n",
    "## Prompt:\n",
    "You’re given a string of comma-separated items:"
   ]
  },
  {
   "cell_type": "code",
   "execution_count": null,
   "id": "c7ab1aa0",
   "metadata": {
    "vscode": {
     "languageId": "plaintext"
    }
   },
   "outputs": [],
   "source": [
    "log = \"error,warning,error,info,error,warning\""
   ]
  },
  {
   "cell_type": "markdown",
   "id": "b35f33bd",
   "metadata": {},
   "source": [
    "## Task:\n",
    "Write a function count_occurrences(log) that returns a dictionary with each unique item as a key and its count as the value.\n",
    "\n",
    "## Expected Output:"
   ]
  },
  {
   "cell_type": "code",
   "execution_count": null,
   "id": "25b0894e",
   "metadata": {
    "vscode": {
     "languageId": "plaintext"
    }
   },
   "outputs": [],
   "source": [
    "{'error': 3, 'warning': 2, 'info': 1}"
   ]
  },
  {
   "cell_type": "markdown",
   "id": "d5fa3b93",
   "metadata": {},
   "source": [
    "## Attempted Solution:"
   ]
  },
  {
   "cell_type": "code",
   "execution_count": null,
   "id": "c2ebe869",
   "metadata": {
    "vscode": {
     "languageId": "plaintext"
    }
   },
   "outputs": [],
   "source": [
    "todays_log = \"error,warning,error,info,error,warning\"\n",
    "\n",
    "def count_occurrences(log):\n",
    "    occurrence_count = {}\n",
    "    split_log = log.split(\",\")\n",
    "\n",
    "    for item in split_log:\n",
    "        if item not in occurrence_count:\n",
    "            occurrence_count[item] = 1\n",
    "        else:\n",
    "            occurrence_count[item] += 1\n",
    "    return occurrence_count\n"
   ]
  },
  {
   "cell_type": "markdown",
   "id": "8eddda3a",
   "metadata": {},
   "source": [
    "# ChatGPT said it was worthy!"
   ]
  }
 ],
 "metadata": {
  "language_info": {
   "name": "python"
  }
 },
 "nbformat": 4,
 "nbformat_minor": 5
}
