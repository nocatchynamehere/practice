{
 "cells": [
  {
   "cell_type": "code",
   "execution_count": null,
   "id": "0428f70e",
   "metadata": {},
   "outputs": [],
   "source": [
    "# Python Problem (Level 8): Merge Two Lists into a Dictionary\n",
    "\n",
    "## 06/10/2025\n",
    "\n",
    "## Prompt:\n",
    "You’re given two lists:"
   ]
  },
  {
   "cell_type": "code",
   "execution_count": null,
   "id": "3c0ea52c",
   "metadata": {},
   "outputs": [],
   "source": [
    "keys = [\"name\", \"age\", \"city\"]\n",
    "values = [\"Alice\", 30, \"New York\"]"
   ]
  },
  {
   "cell_type": "markdown",
   "id": "7abc9d67",
   "metadata": {},
   "source": [
    "## Task:\n",
    "Write a function combine_lists(keys, values) that returns a dictionary combining the two lists.\n",
    "If the lists are not the same length, ignore extra items in the longer list.\n",
    "\n",
    "## Expected Output:"
   ]
  },
  {
   "cell_type": "code",
   "execution_count": null,
   "id": "b306a2b5",
   "metadata": {},
   "outputs": [],
   "source": [
    "{'name': 'Alice', 'age': 30, 'city': 'New York'}"
   ]
  },
  {
   "cell_type": "markdown",
   "id": "04448f17",
   "metadata": {},
   "source": [
    "## Attempted Solution:"
   ]
  },
  {
   "cell_type": "code",
   "execution_count": null,
   "id": "b93af05f",
   "metadata": {},
   "outputs": [],
   "source": [
    "try_keys = [\"name\", \"age\", \"city\"]\n",
    "try_values = [\"Alice\", 30, \"New York\"]\n",
    "\n",
    "def combine_lists(keys, values):\n",
    "    combined = {}\n",
    "\n",
    "    for item_a, item_b in zip(keys, values):\n",
    "        combined[item_a] = item_b\n",
    "\n",
    "    return combined"
   ]
  },
  {
   "cell_type": "markdown",
   "id": "f9ee6ffd",
   "metadata": {},
   "source": [
    "## ChatGPT Correction:\n",
    "\n",
    "Looks great!"
   ]
  }
 ],
 "metadata": {
  "language_info": {
   "name": "python"
  }
 },
 "nbformat": 4,
 "nbformat_minor": 5
}
