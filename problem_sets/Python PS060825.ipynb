{
 "cells": [
  {
   "cell_type": "markdown",
   "id": "afd78a8b",
   "metadata": {},
   "source": [
    "# Python Problem (Level 8): List Deduplication with Case Insensitivity\n",
    "## 06/08/2025\n",
    "\n",
    "You are given a list of strings, some of which are duplicates but with different cases:"
   ]
  },
  {
   "cell_type": "code",
   "execution_count": null,
   "id": "6584977e",
   "metadata": {},
   "outputs": [],
   "source": [
    "raw_tags = [\"Data\", \"data\", \"Science\", \"science\", \"Machine\", \"Learning\", \"machine\"]"
   ]
  },
  {
   "cell_type": "markdown",
   "id": "a50f24e3",
   "metadata": {},
   "source": [
    "## Task:\n",
    "Write a function dedupe_case_insensitive(tags) that returns a list of the tags with duplicates removed, treating them as the same regardless of case, but preserving the first casing used.\n",
    "\n",
    "## Expected Output:"
   ]
  },
  {
   "cell_type": "code",
   "execution_count": null,
   "id": "50f2b005",
   "metadata": {},
   "outputs": [],
   "source": [
    "[\"Data\", \"Science\", \"Machine\", \"Learning\"]"
   ]
  },
  {
   "cell_type": "markdown",
   "id": "311565d9",
   "metadata": {},
   "source": [
    "## Attempted Solution:"
   ]
  },
  {
   "cell_type": "code",
   "execution_count": null,
   "id": "97bf9da1",
   "metadata": {},
   "outputs": [],
   "source": [
    "raw_tags = [\"Data\", \"data\", \"Science\", \"science\", \"Machine\", \"Learning\", \"machine\"]\n",
    "\n",
    "def dedupe_case_insensitive(tags):\n",
    "    deduped = []\n",
    "\n",
    "    for item in tags:\n",
    "        item_check_lower = item.lower()\n",
    "        item_check_title = item.title()\n",
    "\n",
    "        if item_check_lower not in deduped and item_check_title not in deduped:\n",
    "            deduped.append(item)\n",
    "\n",
    "    return deduped"
   ]
  },
  {
   "cell_type": "markdown",
   "id": "f75c926e",
   "metadata": {},
   "source": [
    "## ChatGPT Correction\n",
    "\n",
    "Issues:\n",
    "You’re checking for .lower() and .title() in deduped, which contains original casing, so this check will always fail unless the casing happens to match.\n",
    "\n",
    "You need to track seen lowercase versions separately from the output list."
   ]
  },
  {
   "cell_type": "code",
   "execution_count": null,
   "id": "b4209798",
   "metadata": {},
   "outputs": [],
   "source": [
    "def dedupe_case_insensitive(tags):\n",
    "    seen = set()\n",
    "    result = []\n",
    "    for tag in tags:\n",
    "        lowered = tag.lower()\n",
    "        if lowered not in seen:\n",
    "            seen.add(lowered)\n",
    "            result.append(tag)\n",
    "    return result"
   ]
  }
 ],
 "metadata": {
  "language_info": {
   "name": "python"
  }
 },
 "nbformat": 4,
 "nbformat_minor": 5
}
