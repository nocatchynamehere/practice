{
 "cells": [
  {
   "cell_type": "markdown",
   "id": "1f331713",
   "metadata": {},
   "source": [
    "# Part 1: Python – Data Cleaning & Prep (~1 Hour)\n",
    "\n",
    "## 06/17/2025\n",
    "\n",
    "You are given this messy CSV:"
   ]
  },
  {
   "cell_type": "markdown",
   "id": "6d2dde4a",
   "metadata": {
    "vscode": {
     "languageId": "plaintext"
    }
   },
   "source": [
    "delivery_id,driver,warehouse,retail_location,timestamp,product,qty,status\n",
    "1001,Sam,W1,Store-A,\"2024-06-01 09:00\",Beer Keg,5,Delivered\n",
    "1002,Lisa,W1,Store-B,\"06/01/2024 10:15\",Soda Crate,7,Delivered\n",
    "1003,Sam,W2,Store-C,2024/06/01 12:00,Water Jug,2,damaged\n",
    "1004,Lisa,W1,Store-D,INVALID_TIME,Beer Keg,5,Delivered\n",
    "1005,,W1,Store-A,\"2024-06-01 13:00\",Soda Crate,8,Delivered\n",
    "1006,John,W3,Store-B,\"2024-06-01 14:30\",,3,Delivered\n",
    "1007,Lisa,W1,Store-A,\"2024-06-01 15:00\",Beer Keg,,Delivered"
   ]
  },
  {
   "cell_type": "markdown",
   "id": "ef21fd96",
   "metadata": {},
   "source": [
    "## 📋 Tasks:\n",
    "Clean the data:\n",
    "\n",
    "Remove rows with missing driver, timestamp, or product\n",
    "\n",
    "Normalize the timestamp to datetime (all formats to %Y-%m-%d %H:%M)\n",
    "\n",
    "Set qty to 0 if missing or non-numeric\n",
    "\n",
    "Add fields:\n",
    "\n",
    "A new delivery_hour column (e.g. 9, 10, 11…)\n",
    "\n",
    "A success_flag column: 1 if status = 'Delivered', else 0\n",
    "\n",
    "Save cleaned dataset to either CSV or in-memory SQLite for SQL use in part 2.\n",
    "\n",
    "## ✅ Set Up The Workspace"
   ]
  },
  {
   "cell_type": "code",
   "execution_count": 1,
   "id": "4d90e951",
   "metadata": {},
   "outputs": [],
   "source": [
    "from io import StringIO\n",
    "import pandas as pd\n",
    "import sqlite3"
   ]
  },
  {
   "cell_type": "markdown",
   "id": "4918e5bf",
   "metadata": {},
   "source": [
    "## ✅ Simulate the Raw CSV as a String"
   ]
  },
  {
   "cell_type": "code",
   "execution_count": 2,
   "id": "8044d060",
   "metadata": {},
   "outputs": [],
   "source": [
    "raw_csv = \"\"\"\n",
    "delivery_id,driver,warehouse,retail_location,timestamp,product,qty,status\n",
    "1001,Sam,W1,Store-A,\"2024-06-01 09:00\",Beer Keg,5,Delivered\n",
    "1002,Lisa,W1,Store-B,\"06/01/2024 10:15\",Soda Crate,7,Delivered\n",
    "1003,Sam,W2,Store-C,2024/06/01 12:00,Water Jug,2,damaged\n",
    "1004,Lisa,W1,Store-D,INVALID_TIME,Beer Keg,5,Delivered\n",
    "1005,,W1,Store-A,\"2024-06-01 13:00\",Soda Crate,8,Delivered\n",
    "1006,John,W3,Store-B,\"2024-06-01 14:30\",,3,Delivered\n",
    "1007,Lisa,W1,Store-A,\"2024-06-01 15:00\",Beer Keg,,Delivered\n",
    "\"\"\"\n",
    "\n",
    "df = pd.read_csv(StringIO(raw_csv))"
   ]
  },
  {
   "cell_type": "markdown",
   "id": "ba25d791",
   "metadata": {},
   "source": [
    "✅ That reads the CSV into a DataFrame, like an Excel table.\n",
    "\n",
    "## ✅ Step 2: Clean the Data\n",
    "We’ll clean in layers:\n",
    "\n",
    "### 🔹 Remove rows with missing driver, timestamp, or product:"
   ]
  },
  {
   "cell_type": "code",
   "execution_count": 3,
   "id": "9f7aa1f7",
   "metadata": {},
   "outputs": [],
   "source": [
    "df_clean = df.dropna(subset=['driver', 'timestamp', 'product']).copy()"
   ]
  },
  {
   "cell_type": "markdown",
   "id": "561028eb",
   "metadata": {},
   "source": [
    "### 🔹 Convert timestamp to datetime (and handle errors):"
   ]
  },
  {
   "cell_type": "code",
   "execution_count": null,
   "id": "fab7bc4a",
   "metadata": {},
   "outputs": [],
   "source": [
    "# Checking for date formats\n",
    "def try_parse_date(val):\n",
    "    for fmt in (\"%Y-%m-%d %H:%M\", \"%m/%d/%Y %H:%M\", \"%Y/%m/%d %H:%M\"):\n",
    "        try:\n",
    "            return pd.to_datetime(val, format=fmt)\n",
    "        except:\n",
    "            continue\n",
    "    return pd.NaT  # fallback if all formats fail\n",
    "\n",
    "df_clean['timestamp'] = df_clean['timestamp'].apply(try_parse_date)\n",
    "df_clean = df_clean.dropna(subset=['timestamp']) # drop rows where timestamp failed"
   ]
  },
  {
   "cell_type": "markdown",
   "id": "38a699d0",
   "metadata": {},
   "source": [
    "### 🔹 Fix qty — if missing or not numeric, set to 0:"
   ]
  },
  {
   "cell_type": "code",
   "execution_count": 5,
   "id": "621c32bd",
   "metadata": {},
   "outputs": [],
   "source": [
    "df_clean['qty'] = pd.to_numeric(df_clean['qty'], errors='coerce').fillna(0).astype(int)"
   ]
  },
  {
   "cell_type": "markdown",
   "id": "7ad25fc4",
   "metadata": {},
   "source": [
    "## ✅ Step 3: Add New Columns\n",
    "\n",
    "### 🔹 Add delivery_hour (hour from timestamp):"
   ]
  },
  {
   "cell_type": "code",
   "execution_count": 6,
   "id": "cceb5431",
   "metadata": {},
   "outputs": [],
   "source": [
    "df_clean['delivery_hour'] = df_clean['timestamp'].dt.hour"
   ]
  },
  {
   "cell_type": "markdown",
   "id": "dfe64537",
   "metadata": {},
   "source": [
    "### 🔹 Add success_flag (1 if status is 'Delivered'):"
   ]
  },
  {
   "cell_type": "code",
   "execution_count": 7,
   "id": "1aa108cf",
   "metadata": {},
   "outputs": [],
   "source": [
    "df_clean['success_flag'] = (df_clean['status'].str.lower() == 'delivered').astype(int)"
   ]
  },
  {
   "cell_type": "markdown",
   "id": "e950d36a",
   "metadata": {},
   "source": [
    "## ✅ Step 4: Save for SQL or Output\n",
    "\n",
    "### To CSV:"
   ]
  },
  {
   "cell_type": "code",
   "execution_count": 8,
   "id": "795406d9",
   "metadata": {},
   "outputs": [],
   "source": [
    "df_clean.to_csv('cleaned_deliveries.csv', index=False)"
   ]
  },
  {
   "cell_type": "markdown",
   "id": "2a43bc17",
   "metadata": {},
   "source": [
    "### Or for SQL use (in-memory SQLite):"
   ]
  },
  {
   "cell_type": "code",
   "execution_count": null,
   "id": "2a0aa619",
   "metadata": {},
   "outputs": [],
   "source": [
    "conn = sqlite3.connect(':memory:')\n",
    "df_clean.to_sql('deliveries', conn, index=False, if_exists='replace')"
   ]
  },
  {
   "cell_type": "markdown",
   "id": "6662221e",
   "metadata": {},
   "source": [
    "# Part 2: SQL — Delivery Metrics from Cleaned Data\n",
    "\n",
    "Goal: You’ll now query the cleaned delivery data to generate operational insights.\n",
    "\n",
    "We’re assuming your cleaned data from Python is in a table called deliveries.\n",
    "\n",
    "## 📦 Table: deliveries\n",
    "\n",
    "| Column           | Type     | Example          |\n",
    "| ---------------- | -------- | ---------------- |\n",
    "| delivery\\_id     | int      | 1001             |\n",
    "| driver           | string   | \"Sam\"            |\n",
    "| warehouse        | string   | \"W1\"             |\n",
    "| retail\\_location | string   | \"Store-A\"        |\n",
    "| timestamp        | datetime | 2024-06-01 09:00 |\n",
    "| product          | string   | \"Beer Keg\"       |\n",
    "| qty              | int      | 5                |\n",
    "| status           | string   | \"Delivered\"      |\n",
    "| delivery\\_hour   | int      | 9                |\n",
    "| success\\_flag    | int      | 1                |\n",
    "\n",
    "## 🎯 Tasks\n",
    "\n",
    "### 🧮 1. Total Quantity Delivered Per Product\n",
    "\n",
    "Expected Output:\n",
    "product     | total_delivered\n",
    "------------|----------------\n",
    "Beer Keg    | 10\n",
    "Soda Crate  | 7\n",
    "Water Jug   | 2\n",
    "\n",
    "Write a query that:\n",
    "- Groups by `product`\n",
    "- Sums the `qty` field\n",
    "- Only includes rows where `success_flag = 1`"
   ]
  },
  {
   "cell_type": "markdown",
   "id": "6c323625",
   "metadata": {},
   "source": [
    "### Solution:"
   ]
  },
  {
   "cell_type": "code",
   "execution_count": null,
   "id": "bb04c15f",
   "metadata": {
    "vscode": {
     "languageId": "sql"
    }
   },
   "outputs": [],
   "source": [
    "SELECT\n",
    "    product,\n",
    "    sum(qty) as total_delivered\n",
    "FROM\n",
    "    scratchpad.deliveries\n",
    "WHERE\n",
    "    success_flag = 1\n",
    "GROUP BY\n",
    "    product"
   ]
  },
  {
   "cell_type": "markdown",
   "id": "e7f39eb0",
   "metadata": {},
   "source": [
    "### 🕒 2. Peak Delivery Hours"
   ]
  },
  {
   "cell_type": "markdown",
   "id": "fe4369ef",
   "metadata": {
    "vscode": {
     "languageId": "sql"
    }
   },
   "source": [
    "Expected Output:\n",
    "delivery_hour | total_deliveries\n",
    "--------------|------------------\n",
    "9             | 1\n",
    "13            | 1\n",
    "15            | 1\n",
    "\n",
    "Write a query that:\n",
    "- Groups by `delivery_hour`\n",
    "- Counts total deliveries\n",
    "- Filters to only successful ones\n",
    "- Orders by delivery_hour"
   ]
  },
  {
   "cell_type": "markdown",
   "id": "e9f2719a",
   "metadata": {},
   "source": [
    "### Solution:"
   ]
  },
  {
   "cell_type": "code",
   "execution_count": null,
   "id": "4cd09317",
   "metadata": {
    "vscode": {
     "languageId": "sql"
    }
   },
   "outputs": [],
   "source": [
    "SELECT\n",
    "    delivery_hour,\n",
    "    count(case when status = 'Delivered' then 1 end) as total_deliveries\n",
    "FROM\n",
    "    scratchpad.deliveries\n",
    "WHERE\n",
    "    success_flag = 1\n",
    "GROUP BY\n",
    "    delivery_hour\n",
    "ORDER BY\n",
    "    delivery_hour"
   ]
  },
  {
   "cell_type": "markdown",
   "id": "ec069e40",
   "metadata": {},
   "source": [
    "### 👷‍♂️ 3. Total Deliveries Per Driver\n",
    "\n",
    "Expected Output:\n",
    "driver | deliveries\n",
    "---|---\n",
    "Sam    | 1\n",
    "Lisa   | 1\n",
    "\n",
    "Write a query that:\n",
    "- Counts total successful deliveries\n",
    "- Groups by `driver`\n",
    "- Orders by deliveries DESC\n",
    "\n",
    "### Solution:"
   ]
  },
  {
   "cell_type": "code",
   "execution_count": null,
   "id": "8f64099d",
   "metadata": {
    "vscode": {
     "languageId": "sql"
    }
   },
   "outputs": [],
   "source": [
    "SELECT\n",
    "    driver,\n",
    "    count(case when status = 'Delivered' then 1 end) as deliveries\n",
    "FROM\n",
    "    scratchpad.deliveries\n",
    "WHERE\n",
    "    success_flag = 1\n",
    "GROUP BY\n",
    "    driver\n",
    "ORDER BY\n",
    "    deliveries DESC"
   ]
  },
  {
   "cell_type": "markdown",
   "id": "034666e3",
   "metadata": {},
   "source": [
    "### Bonus Challenge (Optional)\n",
    "\n",
    "Which warehouse has the lowest delivery success rate?\n",
    "\n",
    "You’ll need to:\n",
    "\n",
    "🔹 Count total deliveries per warehouse\n",
    "\n",
    "🔹 Count successful ones\n",
    "\n",
    "🔹 Calculate a success % per warehouse\n",
    "\n",
    "🔹 Order by that % ascending\n",
    "\n",
    "### Solution:"
   ]
  },
  {
   "cell_type": "code",
   "execution_count": null,
   "id": "087245c8",
   "metadata": {
    "vscode": {
     "languageId": "sql"
    }
   },
   "outputs": [],
   "source": [
    "SELECT\n",
    "    warehouse,\n",
    "    sum(success_flag),\n",
    "    ROUND(100.0 * SUM(success_flag) / COUNT(*), 2) as success_pct\n",
    "FROM\n",
    "    scratchpad.deliveries\n",
    "GROUP BY\n",
    "    warehouse\n",
    "ORDER BY\n",
    "    success_pct"
   ]
  }
 ],
 "metadata": {
  "kernelspec": {
   "display_name": ".venv",
   "language": "python",
   "name": "python3"
  },
  "language_info": {
   "codemirror_mode": {
    "name": "ipython",
    "version": 3
   },
   "file_extension": ".py",
   "mimetype": "text/x-python",
   "name": "python",
   "nbconvert_exporter": "python",
   "pygments_lexer": "ipython3",
   "version": "3.13.4"
  }
 },
 "nbformat": 4,
 "nbformat_minor": 5
}
