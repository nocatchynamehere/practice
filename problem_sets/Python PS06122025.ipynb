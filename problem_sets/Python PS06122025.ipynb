{
 "cells": [
  {
   "cell_type": "markdown",
   "id": "f9e557be",
   "metadata": {},
   "source": [
    "# 🐍 Python Problem (Level 8): Reverse Lookup in a Dictionary\n",
    "\n",
    "## Prompt:\n",
    "You’re given a dictionary where values are unique:"
   ]
  },
  {
   "cell_type": "code",
   "execution_count": null,
   "id": "4dff7cf6",
   "metadata": {},
   "outputs": [],
   "source": [
    "people = {\n",
    "    \"Alice\": 1001,\n",
    "    \"Bob\": 1002,\n",
    "    \"Charlie\": 1003\n",
    "}"
   ]
  },
  {
   "cell_type": "markdown",
   "id": "17b530b6",
   "metadata": {},
   "source": [
    "## Task:\n",
    "Write a function get_name_by_id(people_dict, target_id) that returns the name (key) that corresponds to the given \n",
    "target_id.  If no match is found, return \"Not found\".\n",
    "\n",
    "## Expected Output:"
   ]
  },
  {
   "cell_type": "code",
   "execution_count": null,
   "id": "0637c5bd",
   "metadata": {},
   "outputs": [],
   "source": [
    "get_name_by_id(people, 1002) → \"Bob\"  \n",
    "get_name_by_id(people, 9999) → \"Not found\""
   ]
  },
  {
   "cell_type": "markdown",
   "id": "4f056294",
   "metadata": {},
   "source": [
    "## Attempted Solution:"
   ]
  },
  {
   "cell_type": "code",
   "execution_count": null,
   "id": "0fd5f01b",
   "metadata": {},
   "outputs": [],
   "source": [
    "people = {\n",
    "    \"Alice\": 1001,\n",
    "    \"Bob\": 1002,\n",
    "    \"Charlie\": 1003\n",
    "}\n",
    "\n",
    "def get_name_by_id(people_dict, target_id):\n",
    "    a = 0\n",
    "\n",
    "    for person, target in people_dict.items():\n",
    "\n",
    "        if target == target_id:\n",
    "            return person\n",
    "    return \"Not Found\""
   ]
  },
  {
   "cell_type": "markdown",
   "id": "702d957a",
   "metadata": {},
   "source": [
    "## ChatGPT Corrections:\n",
    "\n",
    "Checks out"
   ]
  }
 ],
 "metadata": {
  "kernelspec": {
   "display_name": ".venv",
   "language": "python",
   "name": "python3"
  },
  "language_info": {
   "codemirror_mode": {
    "name": "ipython",
    "version": 3
   },
   "file_extension": ".py",
   "mimetype": "text/x-python",
   "name": "python",
   "nbconvert_exporter": "python",
   "pygments_lexer": "ipython3",
   "version": "3.13.4"
  }
 },
 "nbformat": 4,
 "nbformat_minor": 5
}
